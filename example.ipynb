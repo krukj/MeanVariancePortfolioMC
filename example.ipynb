{
 "cells": [
  {
   "cell_type": "code",
   "execution_count": 1,
   "metadata": {},
   "outputs": [],
   "source": [
    "import numpy as np\n",
    "from src.PorfolioOptimizerSA import PortfolioOptimizerSA"
   ]
  },
  {
   "cell_type": "code",
   "execution_count": 2,
   "metadata": {},
   "outputs": [
    {
     "name": "stdout",
     "output_type": "stream",
     "text": [
      "Optymalny portfel: [98.31396611  0.40539624 -0.22537786  1.16631079  0.33970472]\n",
      "Wartość CVaR: 691.6819366849796\n"
     ]
    }
   ],
   "source": [
    "# stany\n",
    "states = np.array(\n",
    "    [\n",
    "        [100, 105, 110, 95, 90],\n",
    "        [100, 100, 100, 100, 100],\n",
    "        [110, 108, 112, 95, 85],\n",
    "        [95, 90, 100, 105, 95],\n",
    "        [80, 85, 90, 100, 95],\n",
    "    ]\n",
    ")\n",
    "\n",
    "# prawdopodobieństwa\n",
    "probabilities = np.array([0.2, 0.2, 0.2, 0.2, 0.2])\n",
    "\n",
    "# poziom ufności\n",
    "alpha = 0.05\n",
    "\n",
    "# stan początkowy\n",
    "S_0 = np.array([100, 100, 100, 100, 100])\n",
    "\n",
    "# wartość portfela na początku\n",
    "V_0 = 10000\n",
    "\n",
    "# stopa zwrotu\n",
    "return_rate = 0.05\n",
    "\n",
    "# parametry symulowanego wyżarzania\n",
    "T_0 = 1000  # początkowa temperatura\n",
    "T_f = 0.01  # temperatura końcowa\n",
    "max_iter = 1000  # maksymalna liczba iteracji\n",
    "step_size = 0.1  # wielkość kroku\n",
    "annealing_rate = 0.99  # współczynnik chłodzenia\n",
    "\n",
    "# porfel\n",
    "user_portfolio = np.array([0.2, -0.1, 0.3, 0.4, -0.2])\n",
    "\n",
    "optimizer = PortfolioOptimizerSA(\n",
    "    T_0=T_0,\n",
    "    T_f=T_f,\n",
    "    max_iter=max_iter,\n",
    "    step_size=step_size,\n",
    "    annealing_rate=annealing_rate,\n",
    "    states=states,\n",
    "    probabilities=probabilities,\n",
    "    alpha=alpha,\n",
    "    S_0=S_0,\n",
    "    V_0=V_0,\n",
    "    return_rate=return_rate,\n",
    "    user_portfolio=user_portfolio,\n",
    ")\n",
    "optimizer.optimize()\n",
    "\n",
    "optimal_portfolio = optimizer.x\n",
    "optimal_CVaR = optimizer._calculate_CVaR(optimal_portfolio)\n",
    "\n",
    "print(\"Optymalny portfel:\", optimal_portfolio)\n",
    "print(\"Wartość CVaR:\", optimal_CVaR)"
   ]
  },
  {
   "cell_type": "code",
   "execution_count": null,
   "metadata": {},
   "outputs": [],
   "source": []
  }
 ],
 "metadata": {
  "kernelspec": {
   "display_name": "Python 3",
   "language": "python",
   "name": "python3"
  },
  "language_info": {
   "codemirror_mode": {
    "name": "ipython",
    "version": 3
   },
   "file_extension": ".py",
   "mimetype": "text/x-python",
   "name": "python",
   "nbconvert_exporter": "python",
   "pygments_lexer": "ipython3",
   "version": "3.10.5"
  }
 },
 "nbformat": 4,
 "nbformat_minor": 2
}
